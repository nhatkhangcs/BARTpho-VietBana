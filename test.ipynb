{
 "cells": [
  {
   "cell_type": "code",
   "execution_count": 4,
   "metadata": {},
   "outputs": [
    {
     "data": {
      "text/plain": [
       "3"
      ]
     },
     "execution_count": 4,
     "metadata": {},
     "output_type": "execute_result"
    }
   ],
   "source": [
    "1+2"
   ]
  },
  {
   "cell_type": "code",
   "execution_count": 1,
   "metadata": {},
   "outputs": [
    {
     "data": {
      "text/plain": [
       "True"
      ]
     },
     "execution_count": 1,
     "metadata": {},
     "output_type": "execute_result"
    }
   ],
   "source": [
    "import os\n",
    "\n",
    "os.path.exists('E:\\\\General_Subjects\\\\artificial_intelligence\\\\EAAI\\\\BARTViBa\\\\')"
   ]
  },
  {
   "cell_type": "code",
   "execution_count": 2,
   "metadata": {},
   "outputs": [],
   "source": [
    "import py_vncorenlp\n",
    "\n",
    "# Automatically download VnCoreNLP components from the original repository\n",
    "# and save them in some local working folder\n",
    "# py_vncorenlp.download_model(save_dir='E:\\\\General_Subjects\\\\artificial_intelligence\\\\EAAI\\\\BARTViBa\\\\testvncore')\n",
    "\n",
    "# Load VnCoreNLP from the local working folder that contains both `VnCoreNLP-1.2.jar` and `models` \n",
    "model = py_vncorenlp.VnCoreNLP(save_dir='E:\\\\General_Subjects\\\\artificial_intelligence\\\\EAAI\\\\BARTViBa\\\\testvncore')"
   ]
  },
  {
   "cell_type": "code",
   "execution_count": 18,
   "metadata": {},
   "outputs": [
    {
     "name": "stdout",
     "output_type": "stream",
     "text": [
      "1\tkhi\tN\tO\t0\troot\n",
      "2\tgặp\tV\tO\t1\tnmod\n",
      "3\tmột\tM\tO\t4\tdet\n",
      "4\tngười\tNc\tO\t2\tdob\n",
      "5\tbạn\tN\tO\t4\tnmod\n",
      "6\tchúng_ta\tP\tO\t4\tnmod\n",
      "7\tnên\tC\tO\t2\tcoord\n",
      "8\tnói\tV\tO\t7\tconj\n",
      "9\txin\tV\tO\t8\tvmod\n",
      "10\tchào\tV\tO\t9\tvmod\n",
      "\n"
     ]
    }
   ],
   "source": [
    "model.print_out(model.annotate_text(\"khi gặp một người bạn chúng ta nên nói xin chào\"))"
   ]
  },
  {
   "cell_type": "code",
   "execution_count": 1,
   "metadata": {},
   "outputs": [],
   "source": [
    "text = [\"cái\", \"cây\", \"cái cây\",]\n",
    "\n",
    "sentence = \"Tôi có một cái cây rất to\""
   ]
  },
  {
   "cell_type": "code",
   "execution_count": 9,
   "metadata": {},
   "outputs": [],
   "source": [
    "# does sentence contain any words belonging to text?\n",
    "\n",
    "def check(sentence, text):\n",
    "    for word in text:\n",
    "        if word in sentence:\n",
    "            print(word)\n",
    "            return True\n",
    "    return False"
   ]
  },
  {
   "cell_type": "code",
   "execution_count": 10,
   "metadata": {},
   "outputs": [],
   "source": [
    "def checkContainsLongestToShortest(sentence, text):\n",
    "    # for example, with current text array and sentence, we want to detect \"cái cây\" first, if not, the we detect \"cái\" or \"cây\" separately\n",
    "    # so we need to sort the text array from longest to shortest\n",
    "    text.sort(key=len, reverse=True)\n",
    "    print(text)\n",
    "    for word in text:\n",
    "        if word in sentence:\n",
    "            print(word)\n",
    "            return True"
   ]
  },
  {
   "cell_type": "code",
   "execution_count": 11,
   "metadata": {},
   "outputs": [
    {
     "name": "stdout",
     "output_type": "stream",
     "text": [
      "['cái cây', 'cái', 'cây']\n",
      "cái cây\n"
     ]
    },
    {
     "data": {
      "text/plain": [
       "True"
      ]
     },
     "execution_count": 11,
     "metadata": {},
     "output_type": "execute_result"
    }
   ],
   "source": [
    "checkContainsLongestToShortest(sentence, text)"
   ]
  },
  {
   "cell_type": "code",
   "execution_count": 2,
   "metadata": {},
   "outputs": [
    {
     "name": "stdout",
     "output_type": "stream",
     "text": [
      "{<class '__main__.MockObject1'>: <__main__.MockObject1 object at 0x000001FB2180C110>}\n",
      "{}\n",
      "{<class '__main__.MockObject1'>: <__main__.MockObject1 object at 0x000001FB2180CF90>}\n"
     ]
    }
   ],
   "source": [
    "from weakref import WeakValueDictionary\n",
    "\n",
    "\n",
    "class Singleton(type):\n",
    "    _instances = {}\n",
    "\n",
    "    def __call__(cls, *args, **kwargs):\n",
    "        if cls not in cls._instances:\n",
    "            # This variable declaration is required to force a\n",
    "            # strong reference on the instance.\n",
    "            instance = super(Singleton, cls).__call__(*args, **kwargs)\n",
    "            cls._instances[cls] = instance\n",
    "        return cls._instances[cls]\n",
    "\n",
    "\n",
    "class MockObject1(metaclass=Singleton):\n",
    "\n",
    "    def __init__(self, *args, **kwargs):\n",
    "        pass\n",
    "\n",
    "class MockObject2(metaclass=Singleton):\n",
    "\n",
    "    def __init__(self, *args, **kwargs):\n",
    "        pass\n",
    "\n",
    "\n",
    "if __name__ == '__main__':\n",
    "    m = MockObject1()\n",
    "    print(dict(Singleton._instances))\n",
    "    for cls in dict(Singleton._instances).keys():\n",
    "        del Singleton._instances[cls]\n",
    "        cls = None\n",
    "    #m = None\n",
    "    print(dict(Singleton._instances))\n",
    "\n",
    "    m = MockObject1()\n",
    "    print(dict(Singleton._instances))"
   ]
  },
  {
   "cell_type": "code",
   "execution_count": 92,
   "metadata": {},
   "outputs": [
    {
     "name": "stdout",
     "output_type": "stream",
     "text": [
      "1 2\n"
     ]
    }
   ],
   "source": [
    "class test:\n",
    "    def __init__(self):\n",
    "        self.a = 1\n",
    "        self.b = 2\n",
    "    \n",
    "    # def __init__(self, a, b):\n",
    "    #     self.a = a\n",
    "    #     self.b = b\n",
    "\n",
    "mytest = test()\n",
    "print(mytest.a, mytest.b) "
   ]
  },
  {
   "cell_type": "code",
   "execution_count": 2,
   "metadata": {},
   "outputs": [
    {
     "data": {
      "text/plain": [
       "[1, 2, 3, 4]"
      ]
     },
     "execution_count": 2,
     "metadata": {},
     "output_type": "execute_result"
    }
   ],
   "source": [
    "a = [1, 2]\n",
    "\n",
    "b = [3, 4]\n",
    "\n",
    "a + b"
   ]
  },
  {
   "cell_type": "code",
   "execution_count": 1,
   "metadata": {},
   "outputs": [
    {
     "data": {
      "text/plain": [
       "2"
      ]
     },
     "execution_count": 1,
     "metadata": {},
     "output_type": "execute_result"
    }
   ],
   "source": [
    "def getFunc():\n",
    "    def returnFunc(variable):\n",
    "        return variable + 1\n",
    "\n",
    "    return returnFunc\n",
    "\n",
    "func = getFunc()\n",
    "\n",
    "res = func(1)\n",
    "res"
   ]
  },
  {
   "cell_type": "code",
   "execution_count": 4,
   "metadata": {},
   "outputs": [
    {
     "data": {
      "text/plain": [
       "array([[1, 2, 3],\n",
       "       [4, 5, 6],\n",
       "       [7, 8, 9]])"
      ]
     },
     "execution_count": 4,
     "metadata": {},
     "output_type": "execute_result"
    }
   ],
   "source": [
    "import numpy as np\n",
    "\n",
    "arr = np.array([[1,2,3],[4,5,6], [7,8,9]])\n",
    "\n",
    "arr"
   ]
  },
  {
   "cell_type": "code",
   "execution_count": 11,
   "metadata": {},
   "outputs": [
    {
     "ename": "TypeError",
     "evalue": "cannot unpack non-iterable int object",
     "output_type": "error",
     "traceback": [
      "\u001b[1;31m---------------------------------------------------------------------------\u001b[0m",
      "\u001b[1;31mTypeError\u001b[0m                                 Traceback (most recent call last)",
      "\u001b[1;32me:\\General_Subjects\\artificial_intelligence\\EAAI\\231-IntProject\\bart-viba\\test.ipynb Cell 14\u001b[0m line \u001b[0;36m4\n\u001b[0;32m      <a href='vscode-notebook-cell:/e%3A/General_Subjects/artificial_intelligence/EAAI/231-IntProject/bart-viba/test.ipynb#X16sZmlsZQ%3D%3D?line=0'>1</a>\u001b[0m \u001b[39mdef\u001b[39;00m \u001b[39mret\u001b[39m(a,b):\n\u001b[0;32m      <a href='vscode-notebook-cell:/e%3A/General_Subjects/artificial_intelligence/EAAI/231-IntProject/bart-viba/test.ipynb#X16sZmlsZQ%3D%3D?line=1'>2</a>\u001b[0m     \u001b[39mreturn\u001b[39;00m a\u001b[39m+\u001b[39mb\n\u001b[1;32m----> <a href='vscode-notebook-cell:/e%3A/General_Subjects/artificial_intelligence/EAAI/231-IntProject/bart-viba/test.ipynb#X16sZmlsZQ%3D%3D?line=3'>4</a>\u001b[0m a,b \u001b[39m=\u001b[39m ret(\u001b[39m1\u001b[39m, \u001b[39m2\u001b[39m)\n",
      "\u001b[1;31mTypeError\u001b[0m: cannot unpack non-iterable int object"
     ]
    }
   ],
   "source": [
    "def ret(a,b):\n",
    "    return a+b\n",
    "\n",
    "a,b = ret(1, 2)"
   ]
  }
 ],
 "metadata": {
  "kernelspec": {
   "display_name": "khangEnv",
   "language": "python",
   "name": "python3"
  },
  "language_info": {
   "codemirror_mode": {
    "name": "ipython",
    "version": 3
   },
   "file_extension": ".py",
   "mimetype": "text/x-python",
   "name": "python",
   "nbconvert_exporter": "python",
   "pygments_lexer": "ipython3",
   "version": "3.11.6"
  },
  "orig_nbformat": 4
 },
 "nbformat": 4,
 "nbformat_minor": 2
}
