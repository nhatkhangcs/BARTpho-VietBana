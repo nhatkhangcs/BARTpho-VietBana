{
 "cells": [
  {
   "cell_type": "code",
   "execution_count": 1,
   "metadata": {},
   "outputs": [
    {
     "data": {
      "text/plain": [
       "True"
      ]
     },
     "execution_count": 1,
     "metadata": {},
     "output_type": "execute_result"
    }
   ],
   "source": [
    "import os\n",
    "\n",
    "os.path.exists('E:\\\\General_Subjects\\\\artificial_intelligence\\\\EAAI\\\\BARTViBa\\\\')"
   ]
  },
  {
   "cell_type": "code",
   "execution_count": 2,
   "metadata": {},
   "outputs": [],
   "source": [
    "import py_vncorenlp\n",
    "\n",
    "# Automatically download VnCoreNLP components from the original repository\n",
    "# and save them in some local working folder\n",
    "# py_vncorenlp.download_model(save_dir='E:\\\\General_Subjects\\\\artificial_intelligence\\\\EAAI\\\\BARTViBa\\\\testvncore')\n",
    "\n",
    "# Load VnCoreNLP from the local working folder that contains both `VnCoreNLP-1.2.jar` and `models` \n",
    "model = py_vncorenlp.VnCoreNLP(save_dir='E:\\\\General_Subjects\\\\artificial_intelligence\\\\EAAI\\\\BARTViBa\\\\testvncore')"
   ]
  },
  {
   "cell_type": "code",
   "execution_count": 4,
   "metadata": {},
   "outputs": [
    {
     "name": "stdout",
     "output_type": "stream",
     "text": [
      "1\tTôi\tP\tO\t2\tsub\n",
      "2\tcó\tV\tO\t0\troot\n",
      "3\tmột\tM\tO\t4\tdet\n",
      "4\tcái\tNc\tO\t2\tdob\n",
      "5\tmáy_tính\tN\tO\t4\tnmod\n",
      "6\ttoán\tN\tO\t4\tnmod\n",
      "7\trất\tR\tO\t8\tamod\n",
      "8\txịn\tA\tO\t4\tnmod\n",
      "9\txò\tV\tO\t4\tnmod\n",
      "\n"
     ]
    }
   ],
   "source": [
    "model.print_out(model.annotate_text(\"Tôi có một cái máy tính toán rất xịn xò\"))"
   ]
  },
  {
   "cell_type": "code",
   "execution_count": 1,
   "metadata": {},
   "outputs": [],
   "source": [
    "text = [\"cái\", \"cây\", \"cái cây\",]\n",
    "\n",
    "sentence = \"Tôi có một cái cây rất to\""
   ]
  },
  {
   "cell_type": "code",
   "execution_count": 9,
   "metadata": {},
   "outputs": [],
   "source": [
    "# does sentence contain any words belonging to text?\n",
    "\n",
    "def check(sentence, text):\n",
    "    for word in text:\n",
    "        if word in sentence:\n",
    "            print(word)\n",
    "            return True\n",
    "    return False"
   ]
  },
  {
   "cell_type": "code",
   "execution_count": 10,
   "metadata": {},
   "outputs": [],
   "source": [
    "def checkContainsLongestToShortest(sentence, text):\n",
    "    # for example, with current text array and sentence, we want to detect \"cái cây\" first, if not, the we detect \"cái\" or \"cây\" separately\n",
    "    # so we need to sort the text array from longest to shortest\n",
    "    text.sort(key=len, reverse=True)\n",
    "    print(text)\n",
    "    for word in text:\n",
    "        if word in sentence:\n",
    "            print(word)\n",
    "            return True"
   ]
  },
  {
   "cell_type": "code",
   "execution_count": 11,
   "metadata": {},
   "outputs": [
    {
     "name": "stdout",
     "output_type": "stream",
     "text": [
      "['cái cây', 'cái', 'cây']\n",
      "cái cây\n"
     ]
    },
    {
     "data": {
      "text/plain": [
       "True"
      ]
     },
     "execution_count": 11,
     "metadata": {},
     "output_type": "execute_result"
    }
   ],
   "source": [
    "checkContainsLongestToShortest(sentence, text)"
   ]
  }
 ],
 "metadata": {
  "kernelspec": {
   "display_name": "khangEnv",
   "language": "python",
   "name": "python3"
  },
  "language_info": {
   "codemirror_mode": {
    "name": "ipython",
    "version": 3
   },
   "file_extension": ".py",
   "mimetype": "text/x-python",
   "name": "python",
   "nbconvert_exporter": "python",
   "pygments_lexer": "ipython3",
   "version": "3.11.5"
  },
  "orig_nbformat": 4
 },
 "nbformat": 4,
 "nbformat_minor": 2
}
