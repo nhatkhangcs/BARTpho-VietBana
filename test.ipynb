{
 "cells": [
  {
   "cell_type": "code",
   "execution_count": 1,
   "metadata": {},
   "outputs": [],
   "source": [
    "import py_vncorenlp"
   ]
  },
  {
   "cell_type": "code",
   "execution_count": 2,
   "metadata": {},
   "outputs": [
    {
     "name": "stdout",
     "output_type": "stream",
     "text": [
      "VnCoreNLP model folder E:\\General_Subjects\\artificial_intelligence\\EAAI\\231-IntProject\\bart-viba\\GraphTranslation\\vncorenlp1 already exists! Please load VnCoreNLP from this folder!\n"
     ]
    }
   ],
   "source": [
    "py_vncorenlp.download_model(save_dir='E:\\\\General_Subjects\\\\artificial_intelligence\\\\EAAI\\\\231-IntProject\\\\bart-viba\\\\GraphTranslation\\\\vncorenlp1')"
   ]
  },
  {
   "cell_type": "code",
   "execution_count": 3,
   "metadata": {},
   "outputs": [],
   "source": [
    "\n",
    "# Automatically download VnCoreNLP components from the original repository\n",
    "# and save them in some local working folder\n",
    "# py_vncorenlp.download_model(save_dir='E:\\\\General_Subjects\\\\artificial_intelligence\\\\EAAI\\\\BARTViBa\\\\testvncore')\n",
    "\n",
    "# Load VnCoreNLP from the local working folder that contains both `VnCoreNLP-1.2.jar` and `models` \n",
    "model = py_vncorenlp.VnCoreNLP(save_dir='E:\\\\General_Subjects\\\\artificial_intelligence\\\\EAAI\\\\231-IntProject\\\\bart-viba\\\\GraphTranslation\\\\vncorenlp1')"
   ]
  },
  {
   "cell_type": "code",
   "execution_count": 4,
   "metadata": {},
   "outputs": [
    {
     "name": "stdout",
     "output_type": "stream",
     "text": [
      "1\tkhi\tN\tO\t0\troot\n",
      "2\tgặp\tV\tO\t1\tnmod\n",
      "3\tmột\tM\tO\t4\tdet\n",
      "4\tngười\tNc\tO\t2\tdob\n",
      "5\tbạn\tN\tO\t4\tnmod\n",
      "6\tchúng_ta\tP\tO\t4\tnmod\n",
      "7\tnên\tC\tO\t2\tcoord\n",
      "8\tnói\tV\tO\t7\tconj\n",
      "9\txin\tV\tO\t8\tvmod\n",
      "10\tchào\tV\tO\t9\tvmod\n",
      "\n"
     ]
    }
   ],
   "source": [
    "model.print_out(model.annotate_text(\"khi gặp một người bạn chúng ta nên nói xin chào\"))"
   ]
  },
  {
   "cell_type": "code",
   "execution_count": 4,
   "metadata": {},
   "outputs": [],
   "source": [
    "import torch\n",
    "from transformers import AutoModel, AutoTokenizer"
   ]
  },
  {
   "cell_type": "code",
   "execution_count": 3,
   "metadata": {},
   "outputs": [],
   "source": [
    "#BARTpho-syllable\n",
    "syllable_tokenizer = AutoTokenizer.from_pretrained(\"vinai/bartpho-syllable\")\n",
    "bartpho_syllable = AutoModel.from_pretrained(\"vinai/bartpho-syllable\")"
   ]
  },
  {
   "cell_type": "code",
   "execution_count": 27,
   "metadata": {},
   "outputs": [],
   "source": [
    "#BARTpho-word\n",
    "word_tokenizer = AutoTokenizer.from_pretrained(\"vinai/bartpho-word\")\n",
    "bartpho_word = AutoModel.from_pretrained(\"vinai/bartpho-word\")"
   ]
  },
  {
   "cell_type": "code",
   "execution_count": 37,
   "metadata": {},
   "outputs": [],
   "source": [
    "TXT = 'Chúng tôi là những nghiên cứu viên.'  "
   ]
  },
  {
   "cell_type": "code",
   "execution_count": 38,
   "metadata": {},
   "outputs": [
    {
     "name": "stdout",
     "output_type": "stream",
     "text": [
      "syllable_tokenizer:\n",
      "<s>\n",
      "▁Chúng\n",
      "▁tôi\n",
      "▁là\n",
      "▁những\n",
      "▁nghiên\n",
      "▁cứu\n",
      "▁viên\n",
      ".\n",
      "</s>\n"
     ]
    }
   ],
   "source": [
    "input_ids = syllable_tokenizer(TXT, return_tensors='pt')['input_ids']\n",
    "features = bartpho_syllable(input_ids)\n",
    "# print out word tokens\n",
    "print(\"syllable_tokenizer:\")\n",
    "for i in range(len(input_ids[0])):\n",
    "    print(syllable_tokenizer.convert_ids_to_tokens(input_ids[0][i].item()))"
   ]
  },
  {
   "cell_type": "code",
   "execution_count": 47,
   "metadata": {},
   "outputs": [],
   "source": [
    "TXT = 'Chúng_tôi là những nghiên_cứu_viên .'  "
   ]
  },
  {
   "cell_type": "code",
   "execution_count": 48,
   "metadata": {},
   "outputs": [
    {
     "name": "stdout",
     "output_type": "stream",
     "text": [
      "word_tokenizer:\n",
      "<s>\n",
      "Chúng_tôi\n",
      "là\n",
      "những\n",
      "nghiên_cứu_viên\n",
      ".\n",
      "</s>\n"
     ]
    }
   ],
   "source": [
    "input_ids = word_tokenizer(TXT, return_tensors='pt')['input_ids']\n",
    "features = bartpho_word(input_ids)\n",
    "print(\"word_tokenizer:\")\n",
    "# print out word tokens\n",
    "for i in range(len(input_ids[0])):\n",
    "    print(word_tokenizer.convert_ids_to_tokens(input_ids[0][i].item()))"
   ]
  }
 ],
 "metadata": {
  "kernelspec": {
   "display_name": "khangEnv",
   "language": "python",
   "name": "python3"
  },
  "language_info": {
   "codemirror_mode": {
    "name": "ipython",
    "version": 3
   },
   "file_extension": ".py",
   "mimetype": "text/x-python",
   "name": "python",
   "nbconvert_exporter": "python",
   "pygments_lexer": "ipython3",
   "version": "3.11.6"
  },
  "orig_nbformat": 4
 },
 "nbformat": 4,
 "nbformat_minor": 2
}
