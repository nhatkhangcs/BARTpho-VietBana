{
 "cells": [
  {
   "cell_type": "code",
   "execution_count": 4,
   "metadata": {},
   "outputs": [
    {
     "data": {
      "text/plain": [
       "3"
      ]
     },
     "execution_count": 4,
     "metadata": {},
     "output_type": "execute_result"
    }
   ],
   "source": [
    "1+2"
   ]
  },
  {
   "cell_type": "code",
   "execution_count": 1,
   "metadata": {},
   "outputs": [
    {
     "data": {
      "text/plain": [
       "True"
      ]
     },
     "execution_count": 1,
     "metadata": {},
     "output_type": "execute_result"
    }
   ],
   "source": [
    "import os\n",
    "\n",
    "os.path.exists('E:\\\\General_Subjects\\\\artificial_intelligence\\\\EAAI\\\\BARTViBa\\\\')"
   ]
  },
  {
   "cell_type": "code",
   "execution_count": 2,
   "metadata": {},
   "outputs": [],
   "source": [
    "import py_vncorenlp\n",
    "\n",
    "# Automatically download VnCoreNLP components from the original repository\n",
    "# and save them in some local working folder\n",
    "# py_vncorenlp.download_model(save_dir='E:\\\\General_Subjects\\\\artificial_intelligence\\\\EAAI\\\\BARTViBa\\\\testvncore')\n",
    "\n",
    "# Load VnCoreNLP from the local working folder that contains both `VnCoreNLP-1.2.jar` and `models` \n",
    "model = py_vncorenlp.VnCoreNLP(save_dir='E:\\\\General_Subjects\\\\artificial_intelligence\\\\EAAI\\\\BARTViBa\\\\testvncore')"
   ]
  },
  {
   "cell_type": "code",
   "execution_count": 18,
   "metadata": {},
   "outputs": [
    {
     "name": "stdout",
     "output_type": "stream",
     "text": [
      "1\tkhi\tN\tO\t0\troot\n",
      "2\tgặp\tV\tO\t1\tnmod\n",
      "3\tmột\tM\tO\t4\tdet\n",
      "4\tngười\tNc\tO\t2\tdob\n",
      "5\tbạn\tN\tO\t4\tnmod\n",
      "6\tchúng_ta\tP\tO\t4\tnmod\n",
      "7\tnên\tC\tO\t2\tcoord\n",
      "8\tnói\tV\tO\t7\tconj\n",
      "9\txin\tV\tO\t8\tvmod\n",
      "10\tchào\tV\tO\t9\tvmod\n",
      "\n"
     ]
    }
   ],
   "source": [
    "model.print_out(model.annotate_text(\"khi gặp một người bạn chúng ta nên nói xin chào\"))"
   ]
  },
  {
   "cell_type": "code",
   "execution_count": 1,
   "metadata": {},
   "outputs": [],
   "source": [
    "text = [\"cái\", \"cây\", \"cái cây\",]\n",
    "\n",
    "sentence = \"Tôi có một cái cây rất to\""
   ]
  },
  {
   "cell_type": "code",
   "execution_count": 9,
   "metadata": {},
   "outputs": [],
   "source": [
    "# does sentence contain any words belonging to text?\n",
    "\n",
    "def check(sentence, text):\n",
    "    for word in text:\n",
    "        if word in sentence:\n",
    "            print(word)\n",
    "            return True\n",
    "    return False"
   ]
  },
  {
   "cell_type": "code",
   "execution_count": 10,
   "metadata": {},
   "outputs": [],
   "source": [
    "def checkContainsLongestToShortest(sentence, text):\n",
    "    # for example, with current text array and sentence, we want to detect \"cái cây\" first, if not, the we detect \"cái\" or \"cây\" separately\n",
    "    # so we need to sort the text array from longest to shortest\n",
    "    text.sort(key=len, reverse=True)\n",
    "    print(text)\n",
    "    for word in text:\n",
    "        if word in sentence:\n",
    "            print(word)\n",
    "            return True"
   ]
  },
  {
   "cell_type": "code",
   "execution_count": 11,
   "metadata": {},
   "outputs": [
    {
     "name": "stdout",
     "output_type": "stream",
     "text": [
      "['cái cây', 'cái', 'cây']\n",
      "cái cây\n"
     ]
    },
    {
     "data": {
      "text/plain": [
       "True"
      ]
     },
     "execution_count": 11,
     "metadata": {},
     "output_type": "execute_result"
    }
   ],
   "source": [
    "checkContainsLongestToShortest(sentence, text)"
   ]
  },
  {
   "cell_type": "code",
   "execution_count": 79,
   "metadata": {},
   "outputs": [
    {
     "name": "stdout",
     "output_type": "stream",
     "text": [
      "{<class '__main__.MockObject1'>: <__main__.MockObject1 object at 0x00000190F252CD90>}\n"
     ]
    },
    {
     "ename": "TypeError",
     "evalue": "'dict_keys' object does not support item deletion",
     "output_type": "error",
     "traceback": [
      "\u001b[1;31m---------------------------------------------------------------------------\u001b[0m",
      "\u001b[1;31mTypeError\u001b[0m                                 Traceback (most recent call last)",
      "\u001b[1;32me:\\General_Subjects\\artificial_intelligence\\EAAI\\231-IntProject\\bart-viba\\test.ipynb Cell 9\u001b[0m line \u001b[0;36m3\n\u001b[0;32m     <a href='vscode-notebook-cell:/e%3A/General_Subjects/artificial_intelligence/EAAI/231-IntProject/bart-viba/test.ipynb#X11sZmlsZQ%3D%3D?line=28'>29</a>\u001b[0m \u001b[39mprint\u001b[39m(\u001b[39mdict\u001b[39m(Singleton\u001b[39m.\u001b[39m_instances))\n\u001b[0;32m     <a href='vscode-notebook-cell:/e%3A/General_Subjects/artificial_intelligence/EAAI/231-IntProject/bart-viba/test.ipynb#X11sZmlsZQ%3D%3D?line=29'>30</a>\u001b[0m \u001b[39mfor\u001b[39;00m \u001b[39mcls\u001b[39m \u001b[39min\u001b[39;00m \u001b[39mdict\u001b[39m(Singleton\u001b[39m.\u001b[39m_instances)\u001b[39m.\u001b[39mkeys():\n\u001b[1;32m---> <a href='vscode-notebook-cell:/e%3A/General_Subjects/artificial_intelligence/EAAI/231-IntProject/bart-viba/test.ipynb#X11sZmlsZQ%3D%3D?line=30'>31</a>\u001b[0m     \u001b[39mdel\u001b[39;00m \u001b[39mdict\u001b[39;49m(Singleton\u001b[39m.\u001b[39;49m_instances)\u001b[39m.\u001b[39;49mkeys()[\u001b[39mcls\u001b[39;49m]\n\u001b[0;32m     <a href='vscode-notebook-cell:/e%3A/General_Subjects/artificial_intelligence/EAAI/231-IntProject/bart-viba/test.ipynb#X11sZmlsZQ%3D%3D?line=31'>32</a>\u001b[0m     \u001b[39mcls\u001b[39m \u001b[39m=\u001b[39m \u001b[39mNone\u001b[39;00m\n\u001b[0;32m     <a href='vscode-notebook-cell:/e%3A/General_Subjects/artificial_intelligence/EAAI/231-IntProject/bart-viba/test.ipynb#X11sZmlsZQ%3D%3D?line=32'>33</a>\u001b[0m \u001b[39m#m = None\u001b[39;00m\n",
      "\u001b[1;31mTypeError\u001b[0m: 'dict_keys' object does not support item deletion"
     ]
    }
   ],
   "source": [
    "from weakref import WeakValueDictionary\n",
    "\n",
    "\n",
    "class Singleton(type):\n",
    "    _instances = WeakValueDictionary()\n",
    "\n",
    "    def __call__(cls, *args, **kwargs):\n",
    "        if cls not in cls._instances:\n",
    "            # This variable declaration is required to force a\n",
    "            # strong reference on the instance.\n",
    "            instance = super(Singleton, cls).__call__(*args, **kwargs)\n",
    "            cls._instances[cls] = instance\n",
    "        return cls._instances[cls]\n",
    "\n",
    "\n",
    "class MockObject1(metaclass=Singleton):\n",
    "\n",
    "    def __init__(self, *args, **kwargs):\n",
    "        pass\n",
    "\n",
    "class MockObject2(metaclass=Singleton):\n",
    "\n",
    "    def __init__(self, *args, **kwargs):\n",
    "        pass\n",
    "\n",
    "\n",
    "if __name__ == '__main__':\n",
    "    m = MockObject1()\n",
    "    print(dict(Singleton._instances))\n",
    "    for cls in dict(Singleton._instances).keys():\n",
    "        del dict(Singleton._instances)[cls]\n",
    "        cls = None\n",
    "    #m = None\n",
    "    print(Singleton._instances)"
   ]
  },
  {
   "cell_type": "code",
   "execution_count": null,
   "metadata": {},
   "outputs": [],
   "source": []
  },
  {
   "cell_type": "code",
   "execution_count": null,
   "metadata": {},
   "outputs": [],
   "source": []
  }
 ],
 "metadata": {
  "kernelspec": {
   "display_name": "khangEnv",
   "language": "python",
   "name": "python3"
  },
  "language_info": {
   "codemirror_mode": {
    "name": "ipython",
    "version": 3
   },
   "file_extension": ".py",
   "mimetype": "text/x-python",
   "name": "python",
   "nbconvert_exporter": "python",
   "pygments_lexer": "ipython3",
   "version": "3.11.5"
  },
  "orig_nbformat": 4
 },
 "nbformat": 4,
 "nbformat_minor": 2
}
